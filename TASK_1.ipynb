{
  "nbformat": 4,
  "nbformat_minor": 0,
  "metadata": {
    "colab": {
      "provenance": [],
      "authorship_tag": "ABX9TyM1YHpufg4DBs/Da6OsLcj4"
    },
    "kernelspec": {
      "name": "python3",
      "display_name": "Python 3"
    },
    "language_info": {
      "name": "python"
    }
  },
  "cells": [
    {
      "cell_type": "code",
      "execution_count": null,
      "metadata": {
        "colab": {
          "base_uri": "https://localhost:8080/"
        },
        "id": "i6puuOnWJom8",
        "outputId": "963e827f-b5c6-43db-ab72-f04a8f8ac1c0"
      },
      "outputs": [
        {
          "output_type": "stream",
          "name": "stdout",
          "text": [
            "Updated list  [10, 2, 4, 5, 6]\n"
          ]
        }
      ],
      "source": [
        "# creating the list\n",
        "my_list = [1,2,3,4,5]\n",
        "\n",
        "#adding the element to the list\n",
        "my_list.append(6)\n",
        "\n",
        "#removing the element from the list\n",
        "my_list.remove(3)\n",
        "\n",
        "#modifing the element from the list\n",
        "my_list[0] = 10\n",
        "\n",
        "#printing the list\n",
        "print(\"Updated list \", my_list)\n"
      ]
    },
    {
      "cell_type": "code",
      "source": [
        "#creating the dictionary\n",
        "my_dict = {'name': 'John', 'age': 25, 'city': 'New York'}\n",
        "\n",
        "#adding the element to the dictionary\n",
        "my_dict['country'] = 'USA'\n",
        "\n",
        "#deleting the element from the dictionary\n",
        "del my_dict['city']\n",
        "\n",
        "#modifing the element from the dictionary\n",
        "my_dict['age'] = 30\n",
        "\n",
        "#printing the dictionary\n",
        "print(\"Updated dictionary \", my_dict)"
      ],
      "metadata": {
        "colab": {
          "base_uri": "https://localhost:8080/"
        },
        "id": "S-k5zvaWM_SI",
        "outputId": "182e3953-d49f-455b-cadd-55649e1e5aee"
      },
      "execution_count": null,
      "outputs": [
        {
          "output_type": "stream",
          "name": "stdout",
          "text": [
            "Updated dictionary  {'name': 'John', 'age': 30, 'country': 'USA'}\n"
          ]
        }
      ]
    },
    {
      "cell_type": "code",
      "source": [
        "#creating a set\n",
        "my_set = {1,2,3,4,5}\n",
        "\n",
        "#adding an element to the set\n",
        "my_set.add(6)\n",
        "\n",
        "#removing an element from the set\n",
        "my_set.remove(3)\n",
        "\n",
        "#modifing an element from the set\n",
        "my_set.update([7,8,9])\n",
        "my_set.discard(5)\n",
        "my_set.add(10)\n",
        "\n",
        "#printing the set\n",
        "print(\"Updated set \", my_set)"
      ],
      "metadata": {
        "colab": {
          "base_uri": "https://localhost:8080/"
        },
        "id": "98kcK08EN_ob",
        "outputId": "514dac87-cccb-4c0a-941a-d3e6393d472d"
      },
      "execution_count": null,
      "outputs": [
        {
          "output_type": "stream",
          "name": "stdout",
          "text": [
            "Updated set  {1, 2, 4, 6, 7, 8, 9, 10}\n"
          ]
        }
      ]
    }
  ]
}